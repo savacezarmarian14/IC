{
  "nbformat": 4,
  "nbformat_minor": 0,
  "metadata": {
    "colab": {
      "provenance": [],
      "private_outputs": true,
      "toc_visible": true
    },
    "kernelspec": {
      "name": "python3",
      "display_name": "Python 3"
    },
    "language_info": {
      "name": "python"
    }
  },
  "cells": [
    {
      "cell_type": "markdown",
      "source": [
        "# Laboratorul 02 - Shift and Vigenère Ciphers"
      ],
      "metadata": {
        "id": "pxdu2wDOmNjC"
      }
    },
    {
      "cell_type": "markdown",
      "source": [
        "Prezentarea PowerPoint pentru acest laborator poate fi găsită [aici](https://drive.google.com/file/d/1rbiXVtSESTDc2rAyaO9oNRNLE3NRw54a/view?usp=sharing).\n",
        "\n",
        "Va trebui să completați cu soluțiile voastre acolo unde apare TODO. "
      ],
      "metadata": {
        "id": "Yy7OYCrxCT5s"
      }
    },
    {
      "cell_type": "markdown",
      "source": [
        "## Funcții utile"
      ],
      "metadata": {
        "id": "u5NnlrmvnGFL"
      }
    },
    {
      "cell_type": "code",
      "source": [
        "import base64\n",
        "    \n",
        "# CONVERSION FUNCTIONS\n",
        "    \n",
        "def _chunks(string, chunk_size):\n",
        "    for i in range(0, len(string), chunk_size):\n",
        "        yield string[i:i+chunk_size]\n",
        "    \n",
        "def _hex(x):\n",
        "    return format(x, '02x')\n",
        "    \n",
        "def hex_2_bin(data):\n",
        "    return ''.join(f'{int(x, 16):08b}' for x in _chunks(data, 2))\n",
        "    \n",
        "def str_2_bin(data):\n",
        "    return ''.join(f'{ord(c):08b}' for c in data)\n",
        "    \n",
        "def bin_2_hex(data):\n",
        "    return ''.join(f'{int(b, 2):02x}' for b in _chunks(data, 8))\n",
        "    \n",
        "def str_2_hex(data):\n",
        "    return ''.join(f'{ord(c):02x}' for c in data)\n",
        "    \n",
        "def bin_2_str(data):\n",
        "    return ''.join(chr(int(b, 2)) for b in _chunks(data, 8))\n",
        "    \n",
        "def hex_2_str(data):\n",
        "    return ''.join(chr(int(x, 16)) for x in _chunks(data, 2))\n",
        "    \n",
        "# XOR FUNCTIONS\n",
        "    \n",
        "def strxor(a, b):  # xor two strings, trims the longer input\n",
        "    return ''.join(chr(ord(x) ^ ord(y)) for (x, y) in zip(a, b))\n",
        "    \n",
        "def bitxor(a, b):  # xor two bit-strings, trims the longer input\n",
        "    return ''.join(str(int(x) ^ int(y)) for (x, y) in zip(a, b))\n",
        "    \n",
        "def hexxor(a, b):  # xor two hex-strings, trims the longer input\n",
        "    return ''.join(_hex(int(x, 16) ^ int(y, 16)) for (x, y) in zip(_chunks(a, 2), _chunks(b, 2)))\n",
        "    \n",
        "# BASE64 FUNCTIONS\n",
        "    \n",
        "def b64decode(data):\n",
        "    return bytes_to_string(base64.b64decode(string_to_bytes(data)))\n",
        "    \n",
        "def b64encode(data):\n",
        "    return bytes_to_string(base64.b64encode(string_to_bytes(data)))\n",
        "    \n",
        "# PYTHON3 'BYTES' FUNCTIONS\n",
        "    \n",
        "def bytes_to_string(bytes_data):\n",
        "    return bytes_data.decode()  # default utf-8\n",
        "    \n",
        "def string_to_bytes(string_data):\n",
        "    return string_data.encode()  # default utf-8"
      ],
      "metadata": {
        "id": "eYljU0bVJL1d"
      },
      "execution_count": null,
      "outputs": []
    },
    {
      "cell_type": "code",
      "source": [
        "alphabet = 'ABCDEFGHIJKLMNOPQRSTUVWXYZ'\n",
        "\n",
        "\n",
        "def caesar_enc(letter, k=3):\n",
        "    if letter < 'A' or letter > 'Z':\n",
        "        print('Invalid letter')\n",
        "        return\n",
        "    else:\n",
        "        return alphabet[(ord(letter) - ord('A') + k) % len(alphabet)]\n",
        "\n",
        "\n",
        "def caesar_dec(letter, k=3):\n",
        "    if letter < 'A' or letter > 'Z':\n",
        "        print('Invalid letter')\n",
        "        return\n",
        "    else:\n",
        "        return alphabet[(ord(letter) - ord('A') - k) % len(alphabet)]\n",
        "\n",
        "\n",
        "def caesar_enc_string(plaintext, k=3):\n",
        "    ciphertext = ''\n",
        "    for letter in plaintext:\n",
        "        ciphertext = ciphertext + caesar_enc(letter, k)\n",
        "    return ciphertext\n",
        "\n",
        "\n",
        "def caesar_dec_string(plaintext, k=3):\n",
        "    ciphertext = ''\n",
        "    for letter in plaintext:\n",
        "        ciphertext = ciphertext + caesar_dec(letter, k)\n",
        "    return ciphertext\n"
      ],
      "metadata": {
        "id": "3pJNIz4bnE21"
      },
      "execution_count": null,
      "outputs": []
    },
    {
      "cell_type": "markdown",
      "source": [
        "## Exercițiul 1 (2p)"
      ],
      "metadata": {
        "id": "jXWj1xZumNf6"
      }
    },
    {
      "cell_type": "markdown",
      "source": [
        "Alice îi trimite lui Bob următoarele ciphertexte:\n"
      ],
      "metadata": {
        "id": "BGVMLkhLmS7z"
      }
    },
    {
      "cell_type": "code",
      "source": [
        "%%writefile msg_ex1.txt\n",
        "LDPWKHORUGBRXUJRG\n",
        "XNTRGZKKGZUDMNNSGDQFNCRADENQDLD\n",
        "DTZXMFQQSTYRFPJDTZWXJQKFSDLWFAJSNRFLJ\n",
        "SIOMBUFFHINNUEYNBYHUGYIZNBYFILXSIOLAIXCHPUCH\n",
        "ERZRZOREGURFNOONGUQNLGBXRRCVGUBYL\n",
        "CJIJPMTJPMAVOCZMVIYTJPMHJOCZM\n",
        "DTZXMFQQSTYRZWIJW\n",
        "ZPVTIBMMOPUDPNNJUBEVMUFSZ\n",
        "FVBZOHSSUVAZALHS\n",
        "KAGETMXXZAFSUHQRMXEQFQEFUYAZKMSMUZEFKAGDZQUSTNAGD\n",
        "MCIGVOZZBCHRSGWFSOBMHVWBUHVOHPSZCBUGHCMCIFBSWUVPCIF"
      ],
      "metadata": {
        "id": "AXHNSChvmoJO"
      },
      "execution_count": null,
      "outputs": []
    },
    {
      "cell_type": "markdown",
      "source": [
        "Charlie reușește să intercepteze ciphertextele și își dă seama că cifrul folosit pentru criptare este Shift Cipher (fiecare mesaj posibil criptat cu o cheie diferită). Puteți decripta mesajele?\n",
        "\n",
        "Charlie știe de asemenea ca plaintextul este în limba engleză și constă în litere ale alfabetului englez (A-Z), numai majusculă și fără semne de punctuație.\n",
        "\n",
        "> **Hint:** Ce au în comun toate textele în clar? Răspunsul este YOU. \n",
        "\n",
        "Se pare că al cincilea string este diferit. Puteți să găsiți o modalitate de a-l decripta? "
      ],
      "metadata": {
        "id": "FYJYZ0c-modm"
      }
    },
    {
      "cell_type": "code",
      "source": [
        "def decrypt(ciphertext):\n",
        "    plaintext = ''\n",
        "    for key in range(26):\n",
        "      print(caesar_dec_string(ciphertext, key))\n",
        "    return plaintext"
      ],
      "metadata": {
        "id": "apSWq4kjnfo5"
      },
      "execution_count": null,
      "outputs": []
    },
    {
      "cell_type": "code",
      "execution_count": null,
      "metadata": {
        "id": "hsPuY8CUiQzl"
      },
      "outputs": [],
      "source": [
        "ciphertexts = []\n",
        "with open(\"msg_ex1.txt\", 'r') as f:\n",
        "    for line in f:\n",
        "        ciphertexts.append(line[:-1])\n",
        "print(ciphertexts)\n",
        "for c in ciphertexts:\n",
        "    print(decrypt(c))"
      ]
    },
    {
      "cell_type": "markdown",
      "source": [
        "## Exercițiul 2 (4p)"
      ],
      "metadata": {
        "id": "3BIyoBgKnh5P"
      }
    },
    {
      "cell_type": "markdown",
      "source": [
        "Alice îi trimite lui Bob un alt ciphertext, dar mai lung de această dată… "
      ],
      "metadata": {
        "id": "YNzHXVOcpEB0"
      }
    },
    {
      "cell_type": "code",
      "source": [
        "%%writefile msg_ex2.txt\n",
        "YEQCCQMNCKRQLTBKRTKPTEAQKRBVKNBKRQFVSBCQEVXKRQSBJVMEIBVWCKTBMQKRNBKRQPTIVXCNBBQWCBVWCNKKQKRNBKRQCQTKVXKRQCFVWBXSEYSKRNCMQENJRKNCNBKRQETPVXKRQEVWMTBMNBRNCETPMVKRRQLQMNKTKQMTITBMBNJRKTBMRQCRTEEYQENAQTKWQQHETBKQMYIKRQWNOQWCVXPTKQWKRTKYWNBJQKRXVWKRRNCXWSNKNBRNCCQTCVBRNCEQTXTECVCRTEEBVKPNKRQWTBMPRTKCVQOQWRQMVQKRCRTEEHWVCHQWKRQSBJVMEITWQBVKCVYSKTWQENAQKRQFRTXXPRNFRKRQPNBMMWNOQKRTPTIKRQWQXVWQKRQSBJVMEICRTEEBVKCKTBMNBKRQDSMJLQBKBVWCNBBQWCNBKRQFVBJWQJTKNVBVXKRQWNJRKQVSCXVWKRQEVWMABVPQKRKRQPTIVXKRQWNJRKQVSCYSKKRQPTIVXKRQSBJVMEICRTEEHQWNCRPRIMVKRQRQTKRQBWTJQTBMKRQHQVHEQNLTJNBQTOTNBKRNBJKRQANBJCVXKRQQTWKRCQKKRQLCQEOQCTBMKRQWSEQWCKTAQFVSBCQEKVJQKRQWTJTNBCKKRQEVWMTBMTJTNBCKRNCTBVNBKQMCTINBJEQKSCYWQTAKRQNWYTBMCTCSBMQWTBMFTCKTPTIKRQNWFVWMCXWVLSCRQKRTKCNKKQKRNBKRQRQTOQBCCRTEEETSJRKRQEVWMCRTEERTOQKRQLNBMQWNCNVBKRQBCRTEERQCHQTASBKVKRQLNBRNCPWTKRTBMOQZKRQLNBRNCCVWQMNCHEQTCSWQIQKRTOQNCQKLIANBJSHVBLIRVEIRNEEVXUNVBNPNEEMQFETWQKRQMQFWQQKRQEVWMRTKRCTNMSBKVLQKRVSTWKLICVBKRNCMTIRTOQNYQJVKKQBKRQQTCAVXLQTBMNCRTEEJNOQKRQQKRQRQTKRQBXVWKRNBQNBRQWNKTBFQTBMKRQSKKQWLVCKHTWKCVXKRQQTWKRXVWKRIHVCCQCCNVBKRVSCRTEKYWQTAKRQLPNKRTWVMVXNWVBKRVSCRTEKMTCRKRQLNBHNQFQCENAQTHVKKQWTCOQCCQEYQPNCQBVPKRQWQXVWQVIQANBJCYQNBCKWSFKQMIQDSMJQCVXKRQQTWKRCQWOQKRQEVWMPNKRXQTWTBMWQDVNFQPNKRKWQLYENBJANCCKRQCVBEQCKRQYQTBJWITBMIQHQWNCRXWVLKRQPTIPRQBRNCPWTKRNCANBMEQMYSKTENKKEQYEQCCQMTWQTEEKRQIKRTKHSKKRQNWKWSCKNBRNLEVWMRVPTWQKRQINBFWQTCQMKRTKKWVSYEQLQSLTBITWQKRQIKRTKWNCQSHTJTNBCKLQLTBIKRQWQYQPRNFRCTIVXLICVSEKRQWQNCBVRQEHXVWRNLNBJVMCQETRYSKKRVSVEVWMTWKTCRNQEMXVWLQLIJEVWITBMKRQENXKQWSHVXLNBQRQTMNFWNQMSBKVKRQEVWMPNKRLIOVNFQTBMRQRQTWMLQVSKVXRNCRVEIRNEECQETRNETNMLQMVPBTBMCEQHKNTPTAQMXVWKRQEVWMCSCKTNBQMLQNPNEEBVKYQTXWTNMVXKQBKRVSCTBMCVXHQVHEQKRTKRTOQCQKKRQLCQEOQCTJTNBCKLQWVSBMTYVSKTWNCQVEVWMCTOQLQVLIJVMXVWKRVSRTCKCLNKKQBTEELNBQQBQLNQCSHVBKRQFRQQAYVBQKRVSRTCKYWVAQBKRQKQQKRVXKRQSBJVMEICTEOTKNVBYQEVBJQKRSBKVKRQEVWMKRIYEQCCNBJNCSHVBKRIHQVHEQCQETRRQTWLQPRQBNFTEEVJVMVXLIWNJRKQVSCBQCCKRVSRTCKQBETWJQMLQPRQBNPTCNBMNCKWQCCRTOQLQWFISHVBLQTBMRQTWLIHWTIQWVIQCVBCVXLQBRVPEVBJPNEEIQKSWBLIJEVWINBKVCRTLQRVPEVBJPNEEIQEVOQOTBNKITBMCQQATXKQWEQTCNBJCQETRYSKABVPKRTKKRQEVWMRTKRCQKTHTWKRNLKRTKNCJVMEIXVWRNLCQEXKRQEVWMPNEERQTWPRQBNFTEESBKVRNLCKTBMNBTPQTBMCNBBVKFVLLSBQPNKRIVSWVPBRQTWKSHVBIVSWYQMTBMYQCKNEECQETRVXXQWKRQCTFWNXNFQCVXWNJRKQVSCBQCCTBMHSKIVSWKWSCKNBKRQEVWMKRQWQYQLTBIKRTKCTIPRVPNEECRQPSCTBIJVVMEVWMENXKKRVSSHKRQENJRKVXKRIFVSBKQBTBFQSHVBSCKRVSRTCKHSKJETMBQCCNBLIRQTWKLVWQKRTBNBKRQKNLQKRTKKRQNWFVWBTBMKRQNWPNBQNBFWQTCQMNPNEEYVKRETILQMVPBNBHQTFQTBMCEQQHXVWKRVSEVWMVBEILTAQCKLQMPQEENBCTXQKIJNOQQTWKVLIPVWMCVEVWMFVBCNMQWLILQMNKTKNVBRQTWAQBSBKVKRQOVNFQVXLIFWILIANBJTBMLIJVMXVWSBKVKRQQPNEENHWTILIOVNFQCRTEKKRVSRQTWNBKRQLVWBNBJVEVWMNBKRQLVWBNBJPNEENMNWQFKLIHWTIQWSBKVKRQQTBMPNEEEVVASHXVWKRVSTWKBVKTJVMKRTKRTKRHEQTCSWQNBPNFAQMBQCCBQNKRQWCRTEEQONEMPQEEPNKRKRQQKRQXVVENCRCRTEEBVKCKTBMNBKRICNJRKKRVSRTKQCKTEEPVWAQWCVXNBNGSNKIKRVSCRTEKMQCKWVIKRQLKRTKCHQTAEQTCNBJKRQEVWMPNEETYRVWKRQYEVVMITBMMQFQNKXSELTBYSKTCXVWLQNPNEEFVLQNBKVKRIRVSCQNBKRQLSEKNKSMQVXKRILQWFITBMNBKRIXQTWPNEENPVWCRNHKVPTWMKRIRVEIKQLHEQEQTMLQVEVWMNBKRIWNJRKQVSCBQCCYQFTSCQVXLNBQQBQLNQCLTAQKRIPTICKWTNJRKYQXVWQLIXTFQXVWKRQWQNCBVXTNKRXSEBQCCNBKRQNWLVSKRKRQNWNBPTWMHTWKNCOQWIPNFAQMBQCCKRQNWKRWVTKNCTBVHQBCQHSEFRWQKRQIXETKKQWPNKRKRQNWKVBJSQMQCKWVIKRVSKRQLVJVMEQKKRQLXTEEYIKRQNWVPBFVSBCQECFTCKKRQLVSKNBKRQLSEKNKSMQVXKRQNWKWTBCJWQCCNVBCXVWKRQIRTOQWQYQEEQMTJTNBCKKRQQYSKEQKTEEKRVCQKRTKHSKKRQNWKWSCKNBKRQQWQDVNFQEQKKRQLQOQWCRVSKXVWDVIYQFTSCQKRVSMQXQBMQCKKRQLEQKKRQLTECVKRTKEVOQKRIBTLQYQDVIXSENBKRQQXVWKRVSEVWMPNEKYEQCCKRQWNJRKQVSCPNKRXTOVSWPNEKKRVSFVLHTCCRNLTCPNKRTCRNQEMVEVWMWQYSAQLQBVKNBKRNBQTBJQWBQNKRQWFRTCKQBLQNBKRIRVKMNCHEQTCSWQRTOQLQWFISHVBLQVEVWMXVWNTLPQTAVEVWMRQTELQXVWLIYVBQCTWQOQZQMLICVSENCTECVCVWQOQZQMYSKKRVSVEVWMRVPEVBJWQKSWBVEVWMMQENOQWLICVSEVRCTOQLQXVWKRILQWFNQCTCTAQXVWNBMQTKRKRQWQNCBVWQLQLYWTBFQVXKRQQNBKRQJWTOQPRVCRTEEJNOQKRQQKRTBACNTLPQTWIPNKRLIJWVTBNBJTEEKRQBNJRKLTAQNLIYQMKVCPNLNPTKQWLIFVSFRPNKRLIKQTWCLNBQQIQNCFVBCSLQMYQFTSCQVXJWNQXNKPTZQKRVEMYQFTSCQVXTEELNBQQBQLNQCMQHTWKXWVLLQTEEIQPVWAQWCVXNBNGSNKIXVWKRQEVWMRTKRRQTWMKRQOVNFQVXLIPQQHNBJKRQEVWMRTKRRQTWMLICSHHENFTKNVBKRQEVWMPNEEWQFQNOQLIHWTIQWEQKTEELNBQQBQLNQCYQTCRTLQMTBMCVWQOQZQMEQKKRQLWQKSWBTBMYQTCRTLQMCSMMQBEIVEVWMLIJVMNBKRQQMVNHSKLIKWSCKCTOQLQXWVLTEEKRQLKRTKHQWCQFSKQLQTBMMQENOQWLQEQCKRQKQTWLICVSEENAQTENVBWQBMNBJNKNBHNQFQCPRNEQKRQWQNCBVBQKVMQENOQWVEVWMLIJVMNXNRTOQMVBQKRNCNXKRQWQYQNBNGSNKINBLIRTBMCNXNRTOQWQPTWMQMQONESBKVRNLKRTKPTCTKHQTFQPNKRLQYIQTNRTOQMQENOQWQMRNLKRTKPNKRVSKFTSCQNCLNBQQBQLIFEQKKRQQBQLIHQWCQFSKQLICVSETBMKTAQNKIQTEQKRNLKWQTMMVPBLIENXQSHVBKRQQTWKRTBMETILNBQRVBVSWNBKRQMSCKCQETRTWNCQVEVWMNBKRNBQTBJQWENXKSHKRICQEXYQFTSCQVXKRQWTJQVXLNBQQBQLNQCTBMTPTAQXVWLQKVKRQDSMJLQBKKRTKKRVSRTCKFVLLTBMQMCVCRTEEKRQFVBJWQJTKNVBVXKRQHQVHEQFVLHTCCKRQQTYVSKXVWKRQNWCTAQCKRQWQXVWQWQKSWBKRVSVBRNJRKRQEVWMCRTEEDSMJQKRQHQVHEQDSMJQLQVEVWMTFFVWMNBJKVLIWNJRKQVSCBQCCTBMTFFVWMNBJKVLNBQNBKQJWNKIKRTKNCNBLQVREQKKRQPNFAQMBQCCVXKRQPNFAQMFVLQKVTBQBMYSKQCKTYENCRKRQDSCKXVWKRQWNJRKQVSCJVMKWNQKRKRQRQTWKCTBMWQNBCLIMQXQBFQNCVXJVMPRNFRCTOQKRKRQSHWNJRKNBRQTWKJVMDSMJQKRKRQWNJRKQVSCTBMJVMNCTBJWIPNKRKRQPNFAQMQOQWIMTINXRQKSWBBVKRQPNEEPRQKRNCCPVWMRQRTKRYQBKRNCYVPTBMLTMQNKWQTMIRQRTKRTECVHWQHTWQMXVWRNLKRQNBCKWSLQBKCVXMQTKRRQVWMTNBQKRRNCTWWVPCTJTNBCKKRQHQWCQFSKVWCYQRVEMRQKWTOTNEQKRPNKRNBNGSNKITBMRTKRFVBFQNOQMLNCFRNQXTBMYWVSJRKXVWKRXTECQRVVMRQLTMQTHNKTBMMNJJQMNKTBMNCXTEEQBNBKVKRQMNKFRPRNFRRQLTMQRNCLNCFRNQXCRTEEWQKSWBSHVBRNCVPBRQTMTBMRNCONVEQBKMQTENBJCRTEEFVLQMVPBSHVBRNCVPBHTKQNPNEEHWTNCQKRQEVWMTFFVWMNBJKVRNCWNJRKQVSCBQCCTBMPNEECNBJHWTNCQKVKRQBTLQVXKRQEVWMLVCKRNJRVEVWMVSWEVWMRVPQZFQEEQBKNCKRIBTLQNBTEEKRQQTWKRSPRVRTCKCQKKRIJEVWITYVOQKRQRQTOQBCVSKVXKRQLVSKRVXYTYQCTBMCSFAENBJCRTCKKRVSVWMTNBQMCKWQBJKRYQFTSCQVXKRNBQQBQLNQCKRTKKRVSLNJRKQCKCKNEEKRQQBQLITBMKRQTOQBJQWPRQBNFVBCNMQWKRIRQTOQBCKRQPVWAVXKRIXNBJQWCKRQLVVBTBMKRQCKTWCPRNFRKRVSRTCKVWMTNBQMPRTKNCLTBKRTKKRVSTWKLNBMXSEVXRNLTBMKRQCVBVXLTBKRTKKRVSONCNKQCKRNLXVWKRVSRTCKLTMQRNLTENKKEQEVPQWKRTBKRQTBJQECTBMRTCKFWVPBQMRNLPNKRJEVWITBMRVBVSWKRVSLTMQCKRNLKVRTOQMVLNBNVBVOQWKRQPVWACVXKRIRTBMCKRVSRTCKHSKTEEKRNBJCSBMQWRNCXQQKTEECRQQHTBMVZQBIQTTBMKRQYQTCKCVXKRQXNQEMKRQXVPEVXKRQTNWTBMKRQXNCRVXKRQCQTTBMPRTKCVQOQWHTCCQKRKRWVSJRKRQHTKRCVXKRQCQTCVEVWMVSWEVWMRVPQZFQEEQBKNCKRIBTLQNBTEEKRQQTWKRSNPNEEHWTNCQKRQQVEVWMPNKRLIPRVEQRQTWKNPNEECRQPXVWKRTEEKRILTWOQEEVSCPVWACNPNEEYQJETMTBMWQDVNFQNBKRQQNPNEECNBJHWTNCQKVKRIBTLQVKRVSLVCKRNJRPRQBLNBQQBQLNQCTWQKSWBQMYTFAKRQICRTEEXTEETBMHQWNCRTKKRIHWQCQBFQXVWKRVSRTCKLTNBKTNBQMLIWNJRKTBMLIFTSCQKRVSCTKQCKNBKRQKRWVBQDSMJNBJWNJRKKRVSRTCKWQYSAQMKRQRQTKRQBKRVSRTCKMQCKWVIQMKRQPNFAQMKRVSRTCKHSKVSKKRQNWBTLQXVWQOQWTBMQOQWVKRVSQBQLIMQCKWSFKNVBCTWQFVLQKVTHQWHQKSTEQBMTBMKRVSRTCKMQCKWVIQMFNKNQCKRQNWLQLVWNTENCHQWNCRQMPNKRKRQLYSKKRQEVWMCRTEEQBMSWQXVWQOQWRQRTKRHWQHTWQMRNCKRWVBQXVWDSMJLQBKTBMRQCRTEEDSMJQKRQPVWEMNBWNJRKQVSCBQCCRQCRTEELNBNCKQWDSMJLQBKKVKRQHQVHEQNBSHWNJRKBQCCKRQEVWMTECVPNEEYQTWQXSJQXVWKRQVHHWQCCQMTWQXSJQNBKNLQCVXKWVSYEQTBMKRQIKRTKABVPKRIBTLQPNEEHSKKRQNWKWSCKNBKRQQXVWKRVSEVWMRTCKBVKXVWCTAQBKRQLKRTKCQQAKRQQCNBJHWTNCQCKVKRQEVWMPRNFRMPQEEQKRNBUNVBMQFETWQTLVBJKRQHQVHEQRNCMVNBJCPRQBRQLTAQKRNBGSNCNKNVBXVWYEVVMRQWQLQLYQWQKRKRQLRQXVWJQKKQKRBVKKRQFWIVXKRQRSLYEQRTOQLQWFISHVBLQVEVWMFVBCNMQWLIKWVSYEQPRNFRNCSXXQWVXKRQLKRTKRTKQLQKRVSKRTKENXKQCKLQSHXWVLKRQJTKQCVXMQTKRKRTKNLTICRQPXVWKRTEEKRIHWTNCQNBKRQJTKQCVXKRQMTSJRKQWVXUNVBNPNEEWQDVNFQNBKRICTEOTKNVBKRQRQTKRQBTWQCSBAMVPBNBKRQHNKKRTKKRQILTMQNBKRQBQKPRNFRKRQIRNMNCKRQNWVPBXVVKKTAQBKRQEVWMNCABVPBYIKRQDSMJLQBKPRNFRRQQZQFSKQKRKRQPNFAQMNCCBTWQMNBKRQPVWAVXRNCVPBRTBMCRNJJTNVBCQETRKRQPNFAQMCRTEEYQKSWBQMNBKVRQEETBMTEEKRQBTKNVBCKRTKXVWJQKJVMXVWKRQBQQMICRTEEBVKTEPTIYQXVWJVKKQBKRQQZHQFKTKNVBVXKRQHVVWCRTEEBVKHQWNCRXVWQOQWTWNCQVEVWMEQKBVKLTBHWQOTNEEQKKRQRQTKRQBYQDSMJQMNBKRICNJRKHSKKRQLNBXQTWVEVWMKRTKKRQBTKNVBCLTIABVPKRQLCQEOQCKVYQYSKLQBCQETRPRICKTBMQCKKRVSTXTWVXXVEVWMPRIRNMQCKKRVSKRICQEXNBKNLQCVXKWVSYEQKRQPNFAQMNBRNCHWNMQMVKRHQWCQFSKQKRQHVVWEQKKRQLYQKTAQBNBKRQMQONFQCKRTKKRQIRTOQNLTJNBQMXVWKRQPNFAQMYVTCKQKRVXRNCRQTWKTCMQCNWQTBMYEQCCQKRKRQFVOQKVSCPRVLKRQEVWMTYRVWWQKRKRQPNFAQMKRWVSJRKRQHWNMQVXRNCFVSBKQBTBFQPNEEBVKCQQATXKQWJVMJVMNCBVKNBTEERNCKRVSJRKCRNCPTICTWQTEPTICJWNQOVSCKRIDSMJLQBKCTWQXTWTYVOQVSKVXRNCCNJRKTCXVWTEERNCQBQLNQCRQHSXXQKRTKKRQLRQRTKRCTNMNBRNCRQTWKNCRTEEBVKYQLVOQMXVWNCRTEEBQOQWYQNBTMOQWCNKIRNCLVSKRNCXSEEVXFSWCNBJTBMMQFQNKTBMXWTSMSBMQWRNCKVBJSQNCLNCFRNQXTBMOTBNKIRQCNKKQKRNBKRQESWANBJHETFQCVXKRQONEETJQCNBKRQCQFWQKHETFQCMVKRRQLSWMQWKRQNBBVFQBKRNCQIQCTWQHWNONEICQKTJTNBCKKRQHVVWRQENQKRNBPTNKCQFWQKEITCTENVBNBRNCMQBRQENQKRNBPTNKKVFTKFRKRQHVVWRQMVKRFTKFRKRQHVVWPRQBRQMWTPQKRRNLNBKVRNCBQKRQFWVSFRQKRTBMRSLYEQKRRNLCQEXKRTKKRQHVVWLTIXTEEYIRNCCKWVBJVBQCRQRTKRCTNMNBRNCRQTWKJVMRTKRXVWJVKKQBRQRNMQKRRNCXTFQRQPNEEBQOQWCQQNKTWNCQVEVWMVJVMENXKSHKRNBQRTBMXVWJQKBVKKRQRSLYEQPRQWQXVWQMVKRKRQPNFAQMFVBKQLBJVMRQRTKRCTNMNBRNCRQTWKKRVSPNEKBVKWQGSNWQNKKRVSRTCKCQQBNKXVWKRVSYQRVEMQCKLNCFRNQXTBMCHNKQKVWQGSNKQNKPNKRKRIRTBMKRQHVVWFVLLNKKQKRRNLCQEXSBKVKRQQKRVSTWKKRQRQEHQWVXKRQXTKRQWEQCCYWQTAKRVSKRQTWLVXKRQPNFAQMTBMKRQQONELTBCQQAVSKRNCPNFAQMBQCCKNEEKRVSXNBMBVBQKRQEVWMNCANBJXVWQOQWTBMQOQWKRQRQTKRQBTWQHQWNCRQMVSKVXRNCETBMEVWMKRVSRTCKRQTWMKRQMQCNWQVXKRQRSLYEQKRVSPNEKHWQHTWQKRQNWRQTWKKRVSPNEKFTSCQKRNBQQTWKVRQTWKVDSMJQKRQXTKRQWEQCCTBMKRQVHHWQCCQMKRTKKRQLTBVXKRQQTWKRLTIBVLVWQVHHWQCC"
      ],
      "metadata": {
        "id": "sqIuG4UxpF2O"
      },
      "execution_count": null,
      "outputs": []
    },
    {
      "cell_type": "markdown",
      "source": [
        "Charlie trebuie de asemenea să decripteze acest mesaj. Unii colegi i-au spus că este criptat folosind cifrul substituției (engl. substitution cipher), și din nou textele în clar constau doar în litere ale alfabetului englez de la **A** la **Z** (toate majusculă, fără punctuație). Încercați să-l ajutați pe Charlie să decripteze acest mesaj. \n",
        "\n",
        "**Hint:** Folosiți mecanismul analizei bazate pe frecvența literelor, care a fost discutată la curs. Vedeți că frecvența fiecărei litere nu se mapează precis. Cu alte cuvinte, cele mai frecvente două litere se potrivesc cu tabelul dat la curs, dar altele sunt amestecate. Cu toate acestea, Charlie știe că cele mai frecvente bi-grame sunt următoarele (de la cel mai frecvent la cel mai puțin frecvent): \n",
        "\n",
        "**TH**, **HE**, **IN**, **OR**, **HA**, **ET**, **AN**, **EA**, **IS**, **OU**, **HI**, **ER**, **ST**, **RE**, **ND**\n",
        "\n",
        "Folosind această informație, puteți spune despre ce este vorba în textul cifrat?\n",
        "\n",
        "> **Hint**: Puteți folosi **sort_dictionary** care deja este definit în scheletul laboratorului. "
      ],
      "metadata": {
        "id": "6yEsvnARpFVm"
      }
    },
    {
      "cell_type": "code",
      "source": [
        "import operator\n",
        "\n",
        "# This is the list of bigrams, from most frequent to less frequent\n",
        "bigrams = [\"TH\", \"HE\", 'IN', 'OR', 'HA', 'ET', 'AN',\n",
        "           'EA', 'IS', 'OU', 'HI', 'ER', 'ST', 'RE', 'ND']\n",
        "\n",
        "# This is the list of monograms, from most frequent to less frequent\n",
        "monograms = ['E', 'T', 'A', 'O', 'I', 'N', 'S', 'R', 'H', 'D', 'L', 'U',\n",
        "             'C', 'M', 'F', 'Y', 'W', 'G', 'P', 'B', 'V', 'K', 'X', 'Q', 'J', 'Z']\n",
        "\n",
        "# This is the dictionary containing the substitution table (e.g. subst_table['A'] = 'B')\n",
        "# TODO Fill it in the create_subst_table function\n",
        "subst_table = {}\n",
        "\n",
        "# These are the dictionaries containing the frequencies of the mono/bigrams in the text\n",
        "# TODO Fill them in the analyze function\n",
        "freq_table_bi = {}\n",
        "freq_table_mono = {}\n",
        "\n",
        "\n",
        "\n",
        "def sort_dictionary(d):\n",
        "    \"\"\" Sorts a dictionary d by the value. Returns a list of tuples sorted\n",
        "        by the second element. \"\"\"\n",
        "    sorted_dict = list(reversed(sorted(d.items(), key=operator.itemgetter(1))))\n",
        "    return sorted_dict\n",
        "\n",
        "\n",
        "def adjust():\n",
        "    \"\"\" This is magic stuff used in main. \"\"\"\n",
        "    global subst_table\n",
        "    subst_table['Y'] = 'B'\n",
        "    subst_table['E'] = 'L'\n",
        "    subst_table['L'] = 'M'\n",
        "    subst_table['P'] = 'W'\n",
        "    subst_table['F'] = 'C'\n",
        "    subst_table['X'] = 'F'\n",
        "    subst_table['J'] = 'G'\n",
        "    subst_table['I'] = 'Y'\n"
      ],
      "metadata": {
        "id": "kgrsDxYLpCGQ"
      },
      "execution_count": null,
      "outputs": []
    },
    {
      "cell_type": "code",
      "source": [
        "def populate_freq_table(text, type):\n",
        "  if type == 'mono':\n",
        "    for letter in text:\n",
        "      if letter in freq_table_mono : freq_table_mono[letter] += 1\n",
        "      else : freq_table_mono[letter] = 1\n",
        "  \n",
        "  if type == 'bi':\n",
        "    for bigram in [text[i-1:i+1] for i in range(1, len(text))]:\n",
        "      if bigram in freq_table_bi : freq_table_bi[bigram] += 1\n",
        "      else : freq_table_bi[bigram] = 1\n",
        "\n",
        "\n",
        "def analyze(text):\n",
        "    \"\"\" Computes the frequencies of the monograms and bigrams in the text. \"\"\"\n",
        "    global freq_table_mono, freq_table_bi\n",
        "\n",
        "    # TODO 1.1 Fill in the freq_table_mono dictionary\n",
        "    populate_freq_table(text, 'mono')\n",
        "    # TODO 1.2 Fill in the freq_table_bi dictionary\n",
        "    populate_freq_table(text, 'bi')"
      ],
      "metadata": {
        "id": "gqQ26nwfqJrN"
      },
      "execution_count": null,
      "outputs": []
    },
    {
      "cell_type": "code",
      "source": [
        "def create_subst_table():\n",
        "    \"\"\" Creates a substitution table using the frequencies of the bigrams. \"\"\"\n",
        "    global subst_table\n",
        "\n",
        "    # TODO 2.1 Sort the bigrams frequency table by the frequency\n",
        "    sorted_bigram_freq_table = sort_dictionary(freq_table_bi)\n",
        "    print(sorted_bigram_freq_table)\n",
        "    # TODO 2.2 Fill in the substitution table by associating the sorted frequency\n",
        "    # dictionary with the given bigrams\n",
        "    for i in range(len(bigrams)):\n",
        "      subst_table[sorted_bigram_freq_table[i][0][0]] = bigrams[i][0]\n",
        "      subst_table[sorted_bigram_freq_table[i][0][1]] = bigrams[i][1]\n",
        "\n",
        "\n"
      ],
      "metadata": {
        "id": "k8P81N4EqMz6"
      },
      "execution_count": null,
      "outputs": []
    },
    {
      "cell_type": "code",
      "source": [
        "def complete_subst_table():\n",
        "    \"\"\" Fills in the letters missing from the substitution table using the\n",
        "        frequencies of the monograms. \"\"\"\n",
        "    global subst_table\n",
        "\n",
        "    # TODO 3.1 Sort the monograms frequency table by the frequency\n",
        "    sorted_monogram_freq_table = sort_dictionary(freq_table_mono)\n",
        "    print(sorted_monogram_freq_table)\n",
        "    # TODO 3.2 Fill in the missing letters from the substitution table by\n",
        "    # associating the sorted frequency dictionary with the given monograms\n",
        "    for i in range(len(monograms)):\n",
        "      if sorted_monogram_freq_table[i][0] not in subst_table:\n",
        "        subst_table[sorted_monogram_freq_table[i][0]] = monograms[i]"
      ],
      "metadata": {
        "id": "fUZYQkUxqOdu"
      },
      "execution_count": null,
      "outputs": []
    },
    {
      "cell_type": "code",
      "source": [
        "def decrypt_text(text):\n",
        "    global subst_table\n",
        "    plaintext = ''\n",
        "    print(subst_table)\n",
        "    # TODO 4 Decrypt and print the text using the substitution table\n",
        "    for c in text:\n",
        "      if c in subst_table:\n",
        "        plaintext += subst_table[c]\n",
        "    print(plaintext)    \n"
      ],
      "metadata": {
        "id": "7_ODho_dqRkW"
      },
      "execution_count": null,
      "outputs": []
    },
    {
      "cell_type": "code",
      "source": [
        "with open('msg_ex2.txt', 'r') as myfile:\n",
        "    text = myfile.read()\n",
        "\n",
        "analyze(text)\n",
        "create_subst_table()\n",
        "complete_subst_table()\n",
        "adjust()\n",
        "decrypt_text(text)"
      ],
      "metadata": {
        "id": "jT-pDytaqB34"
      },
      "execution_count": null,
      "outputs": []
    },
    {
      "cell_type": "markdown",
      "source": [
        "## Exercițiul 3 (4p)"
      ],
      "metadata": {
        "id": "13S1kGPTqiTu"
      }
    },
    {
      "cell_type": "markdown",
      "source": [
        "Charlie reușește să intercepteze o ultimă comunicație care se pare a fi cea mai importantă, deci este decisiv ca el să o decripteze. Cu toate acestea, de data aceasta Alice a folosit cifrul Vigenere, cu o cheie despre care Charlie știe ca are **7** caractere. "
      ],
      "metadata": {
        "id": "_VgMc4WPqlKD"
      }
    },
    {
      "cell_type": "code",
      "source": [
        "!wget https://ocw.cs.pub.ro/courses/_media/ic/res/msg_ex3.txt -O msg_ex3.txt"
      ],
      "metadata": {
        "id": "xhVJ6QRjquvy"
      },
      "execution_count": null,
      "outputs": []
    },
    {
      "cell_type": "markdown",
      "source": [
        "Ciphertextul este în fișierul atașat. Încercați metoda multiplicării probabilitătilor așa cum a fost explicat la curs și vedeți dacă puteți decripta ciphertextul. Puteți găsi mai multe detalii despre această metodă [aici](https://pages.mtu.edu/~shene/NSF-4/Tutorial/VIG/Vig-Recover.html).\n",
        "\n",
        "Acestea sunt frecvențele cunoscute ale textului în clar: "
      ],
      "metadata": {
        "id": "ccbcmGdKquYI"
      }
    },
    {
      "cell_type": "code",
      "source": [
        "freqs = {'A': 0.07048643054277828,\n",
        "         'C': 0.01577161913523459,\n",
        "         'B': 0.012074517019319227,\n",
        "         'E': 0.13185372585096597,\n",
        "         'D': 0.043393514259429625,\n",
        "         'G': 0.01952621895124195,\n",
        "         'F': 0.023867295308187673,\n",
        "         'I': 0.06153403863845446,\n",
        "         'H': 0.08655128794848206,\n",
        "         'K': 0.007566697332106716,\n",
        "         'J': 0.0017594296228150873,\n",
        "         'M': 0.029657313707451703,\n",
        "         'L': 0.04609015639374425,\n",
        "         'O': 0.07679967801287949,\n",
        "         'N': 0.060217341306347746,\n",
        "         'Q': 0.0006382244710211592,\n",
        "         'P': 0.014357175712971482,\n",
        "         'S': 0.05892939282428703,\n",
        "         'R': 0.05765294388224471,\n",
        "         'U': 0.02749540018399264,\n",
        "         'T': 0.09984475620975161,\n",
        "         'W': 0.01892824287028519,\n",
        "         'V': 0.011148804047838086,\n",
        "         'Y': 0.023045078196872126,\n",
        "         'X': 0.0005289788408463661,\n",
        "         'Z': 0.00028173873045078196\n",
        "         }"
      ],
      "metadata": {
        "id": "PXZgCY5LCt8H"
      },
      "execution_count": null,
      "outputs": []
    },
    {
      "cell_type": "code",
      "source": [
        "def compute_distribution(f):\n",
        "    \"\"\" Computes the chi-distribution based on a dictionary of frequencies\n",
        "        relative to the freqs frequencies dictionary. \"\"\"\n",
        "    x2 = 0\n",
        "    for l in freqs:\n",
        "        x2 = x2 + (f[l] - freqs[l]) ** 2 / freqs[l]\n",
        "    return x2\n",
        "\n",
        "\n",
        "def split_in_cosets(text, keylen):\n",
        "    \"\"\" Splits a text in keylen cosets. \"\"\"\n",
        "    cosets = []\n",
        "    for i in range(keylen):\n",
        "        coset = []\n",
        "        for j in range(i, len(text), keylen):\n",
        "            coset.append(text[j])\n",
        "        cosets.append(coset)\n",
        "    return cosets\n",
        "\n",
        "\n",
        "def merge_cosets(cosets, coset_size):\n",
        "    \"\"\" Merges the cosets to obtain the original text. \"\"\"\n",
        "    text = ''\n",
        "    for j in range(coset_size):\n",
        "        for i in range(len(cosets)):\n",
        "            text = text + cosets[i][j]\n",
        "    return text"
      ],
      "metadata": {
        "id": "8l8dfO8PqW3x"
      },
      "execution_count": null,
      "outputs": []
    },
    {
      "cell_type": "code",
      "source": [
        "def get_freq_dict(coset, shift):\n",
        "    \"\"\" Computes the frequency table for a coset shifted to left with a given shift. \"\"\"\n",
        "    d = {}\n",
        "\n",
        "    # TODO 1 compute the frequency of the letters in the coset shifted to left\n",
        "    # by the shift parameter\n",
        "\n",
        "    for letter in coset:\n",
        "      shifted_letter = caesar_dec(letter, shift)\n",
        "      if shifted_letter in d : d[shifted_letter] += 1\n",
        "      else : d[shifted_letter] = 1\n",
        "      \n",
        "    return d"
      ],
      "metadata": {
        "id": "hqMILcz1C7Mk"
      },
      "execution_count": null,
      "outputs": []
    },
    {
      "cell_type": "code",
      "source": [
        "from math import inf\n",
        "def find_correct_shift(coset):\n",
        "\tbest_shift = 0\n",
        "\tmin_distribution = inf\n",
        "\n",
        "\tfor shift in range(26):\n",
        "\t\tshift_freq = get_freq_dict(coset, shift)\n",
        "\t\tdistribution = compute_distribution(shift_freq)\n",
        "\n",
        "\t\tif min_distribution > distribution:\n",
        "\t\t\tmin_distribution = distribution\n",
        "\t\t\tbest_shift = shift\n",
        "\n",
        "\treturn best_shift"
      ],
      "metadata": {
        "id": "jXQcIygcC-CV"
      },
      "execution_count": null,
      "outputs": []
    },
    {
      "cell_type": "code",
      "source": [
        "with open('msg_ex3.txt', 'r') as myfile:\n",
        "    text = myfile.read().strip()\n",
        "\n",
        "dec_text = ''\n",
        "\n",
        "# TODO 3 decrypt the text\n",
        "plain_cosets = [caesar_dec_string(coset, find_correct_shift(coset)) for coset in split_in_cosets(text, 7)]\n",
        "dec_text = merge_cosets(plain_cosets, len(plain_cosets[0]))\n",
        "\n",
        "print(dec_text)"
      ],
      "metadata": {
        "id": "igNHCYk5C_mD"
      },
      "execution_count": null,
      "outputs": []
    },
    {
      "cell_type": "markdown",
      "source": [
        "## Bonus: Exercițiul 4 (2p)"
      ],
      "metadata": {
        "id": "YMLaThJPr0_q"
      }
    },
    {
      "cell_type": "markdown",
      "source": [
        " La curs am spus că One Time Pad este maleabil (i.e. putem schimba cu ușurință criptarea unui text în clar prin simpla schimbare a ciphertextului). De asemenea, am discutat cum CRC este o idee proastă de design pentru protocolul WEP, din cauza proprietății de linearitate.\n",
        "\n",
        "Vi se dă următorul ciphertext, în hexazecimal:\n",
        "``` text\n",
        "021e0e061d1694c9\n",
        "```\n",
        "\n",
        "care corespunde concatenării mesajelor “floare” și CRC-16 asociat mesajului (în hexa este “8E31”) obținut folosind acest website: http://www.lammertbies.nl/comm/info/crc-calculation.html\n",
        "\n",
        "Dacă trebuie să modificăm ciphertextul astfel încât o decriptare corectă să ducă la “albina” în loc de “floare”, iar calcularea CRC-16 să rămână corectă, care este modificarea pe care trebuie să o realizăm?\n",
        "\n",
        "Afișați noul ciphertext după modificările necesare, și arătați că în mod corect duce la plaintextul “albina” și un CRC-16 calculat corect.\n",
        "\n",
        "Poate găsiți acest început de script util: "
      ],
      "metadata": {
        "id": "tKh5dCFGr3v0"
      }
    },
    {
      "cell_type": "code",
      "source": [
        "# Plaintexts\n",
        "s1 = 'floare'\n",
        "s2 = 'albina'\n",
        "G = ''  # To find\n",
        "\n",
        "# Obtain crc of s1\n",
        "# See this site:\n",
        "# http://www.lammertbies.nl/comm/info/crc-calculation.html\n",
        "x1 = str_2_hex(s1)\n",
        "x2 = str_2_hex(s2)\n",
        "print(\"x1: \" + x1)\n",
        "crc1 = '8E31'  # CRC-16 of x1\n",
        "\n",
        "# Compute delta (xor) of x1 and x2:\n",
        "xd = hexxor(x1, x2)\n",
        "print(\"xd: \" + xd)\n",
        "\n",
        "# TODO:\n",
        "\n"
      ],
      "metadata": {
        "id": "Cq-YnXGlr3Qs"
      },
      "execution_count": null,
      "outputs": []
    },
    {
      "cell_type": "markdown",
      "source": [
        "Folosiți proprietatea pentru CRC-16 cum că CRC(m XOR d) = CRC(m) XOR CRC(d).\n",
        "\n",
        "Dacă d = 'floare' XOR 'albina', iar C = [C1 | C2] = [m XOR G1 | CRC(m) XOR G2], atunci C1' = C1 XOR d. "
      ],
      "metadata": {
        "id": "5KqA5jbWoZda"
      }
    },
    {
      "cell_type": "code",
      "source": [],
      "metadata": {
        "id": "S86xg01GnWu1"
      },
      "execution_count": null,
      "outputs": []
    }
  ]
}